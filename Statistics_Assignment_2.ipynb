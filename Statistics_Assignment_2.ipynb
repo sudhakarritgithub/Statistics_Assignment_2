{
 "cells": [
  {
   "cell_type": "raw",
   "id": "466c8273-cb6a-411f-8241-47a5c052aff1",
   "metadata": {},
   "source": [
    "                                             STATISTICS ASSIGNMENT - 2"
   ]
  },
  {
   "cell_type": "raw",
   "id": "e15c569d-8307-4a0c-a0a1-a403d03d9180",
   "metadata": {},
   "source": []
  },
  {
   "cell_type": "raw",
   "id": "7965ea95-2b51-4fa0-9788-d0e975214689",
   "metadata": {},
   "source": []
  },
  {
   "cell_type": "raw",
   "id": "19708f72-7061-4e0d-be2d-e2880a363f45",
   "metadata": {},
   "source": [
    "Ques.1 What are the three measures of central tendency?"
   ]
  },
  {
   "cell_type": "raw",
   "id": "302f3741-8b8a-4ebd-ab0a-488220a1fa1a",
   "metadata": {},
   "source": [
    "The three measures of central tendency are:\n",
    "Mean\n",
    "Median\n",
    "Mode"
   ]
  },
  {
   "cell_type": "raw",
   "id": "16c2ad49-720e-483e-bbfa-f93c74222e7f",
   "metadata": {},
   "source": []
  },
  {
   "cell_type": "raw",
   "id": "0a47ec3a-a7bb-4ba2-81e7-b7ff9920d7be",
   "metadata": {},
   "source": [
    "Ques.2  What is the difference between the mean, median, and mode? How are they used to measure the central tendency of a         dataset?"
   ]
  },
  {
   "cell_type": "raw",
   "id": "b0bb550a-8cf4-40a0-a511-953d0af31f9f",
   "metadata": {},
   "source": [
    "Mean: The mean is the average of all the values in a dataset. It is calculated by summing up all the values and dividing by the number of values. The mean is sensitive to outliers, meaning that extreme values can significantly affect its value.\n",
    "Use: The mean is commonly used when the data is normally distributed or symmetrical and does not have extreme outliers that would skew the average.\n",
    "\n",
    "Median: The median is the middle value when the data is arranged in ascending or descending order. If there is an even number of observations, the median is the average of the two middle values. The median is not affected by extreme values or outliers to the same extent as the mean.\n",
    "Use: The median is useful when the data contains outliers or is skewed, as it provides a better representation of the \"typical\" value in the dataset.\n",
    "\n",
    "Mode: The mode is the value that appears most frequently in a dataset. Unlike the mean and median, which are numerical summaries, the mode is the actual data value that occurs most often.\n",
    "Use: The mode is especially useful for categorical or nominal data where values are not numerical but represent categories or types. It can also be used with numerical data to identify the most common value or peak in a distribution.\n",
    "\n",
    "In summary, the choice of measure of central tendency (mean, median, or mode) depends on the nature of the data and the specific characteristics of the dataset. The mean is typically used for symmetrical data without outliers, the median is preferred for skewed data or datasets with outliers, and the mode is useful for identifying the most frequent value in categorical or numerical distributions."
   ]
  },
  {
   "cell_type": "raw",
   "id": "76d7fe28-ebca-404d-891a-a4dbccfb5520",
   "metadata": {},
   "source": []
  },
  {
   "cell_type": "raw",
   "id": "a235ae9b-329f-44a9-b8c9-e66bd28e4a32",
   "metadata": {},
   "source": [
    "Ques.3  Measure the three measures of central tendency for the given height data:\n",
    "        [178,177,176,177,178.2,178,175,179,180,175,178.9,176.2,177,172.5,178,176.5]"
   ]
  },
  {
   "cell_type": "raw",
   "id": "ecc9f769-0f38-4216-be6f-cb37fb7f4038",
   "metadata": {},
   "source": [
    "Mode:\n",
    "To find the mode, we identify the most frequently occurring value in the dataset:\n",
    "177 appears 3 times (most frequent)\n",
    "178 appears 4 times (also frequent)\n",
    "Other values appear 1 or 2 times each\n",
    "The mode is 178, as it appears most frequently in the dataset.\n",
    "\n",
    "Summary:\n",
    "Mean height: \n",
    "174.89\n",
    "174.89\n",
    "Median height: \n",
    "177.5\n",
    "177.5\n",
    "Mode height: \n",
    "178\n",
    "178\n",
    "These measures of central tendency provide different insights into the typical or central value of the height data."
   ]
  },
  {
   "cell_type": "raw",
   "id": "12ab1cdf-7df0-4c61-9f29-6097dd10bcab",
   "metadata": {},
   "source": []
  },
  {
   "cell_type": "raw",
   "id": "799302dc-8cef-4bf1-9a04-a33ac840aae6",
   "metadata": {},
   "source": [
    "Ques.4  Find the standard deviation for the given data:\n",
    "        [178,177,176,177,178.2,178,175,179,180,175,178.9,176.2,177,172.5,178,176.5]"
   ]
  },
  {
   "cell_type": "raw",
   "id": "de9efff3-af99-4c2e-8ea4-c768d103e16c",
   "metadata": {},
   "source": [
    "To find the standard deviation for the given data, we will follow these steps:\n",
    "\n",
    "Calculate the mean: We already found the mean in the previous calculation.\n",
    "\n",
    "Find the differences from the mean: For each data point, subtract the mean.\n",
    "\n",
    "Square the differences: Square each result from step 2.\n",
    "\n",
    "Calculate the mean of those squared differences: Sum the squared differences and divide by the number of data points (sample size).\n",
    "\n",
    "Take the square root: Finally, take the square root of the result from step 4 to find the standard deviation.\n",
    "\n",
    "The standard deviation of the given data set is approximately 6.756\n"
   ]
  },
  {
   "cell_type": "raw",
   "id": "d3e12eb0-0f97-42a1-bb3c-e43704a80577",
   "metadata": {},
   "source": []
  },
  {
   "cell_type": "raw",
   "id": "108872d6-07f7-4ec2-b45d-439c7de8ea8d",
   "metadata": {},
   "source": [
    "Ques.5  How are measures of dispersion such as range, variance, and standard deviation used to describe\n",
    "        the spread of a dataset? Provide an example."
   ]
  },
  {
   "cell_type": "raw",
   "id": "a1b89118-0e1a-4f11-b75e-d56bace84aba",
   "metadata": {},
   "source": [
    "Measures of dispersion such as range, variance, and standard deviation are used to quantify how spread out or dispersed the values in a dataset are from the central tendency (usually the mean). Here’s how each of these measures is used and an example to illustrate their application:\n",
    "\n",
    "Range:\n",
    "Definition: Range is the simplest measure of dispersion and represents the difference between the largest and smallest values in the dataset.\n",
    "Use: It provides a quick indication of the spread of values in the dataset but doesn't account for the distribution of values between the extremes.\n",
    "Example: Suppose we have a dataset of exam scores: \n",
    "\n",
    "Variance:\n",
    "Definition: Variance measures the average squared deviation of each data point from the mean. \n",
    "Use: It gives a measure of the spread of data points around the mean. A higher variance indicates that the data points are spread out over a wider range of values.\n",
    "\n",
    "Standard Deviation:\n",
    "Definition: Standard deviation is the square root of the variance and provides a measure of the average amount of variation or dispersion of data points around the mean.\n",
    "Use: It is widely used because it gives a measure of spread in the same units as the data, making it easier to interpret."
   ]
  },
  {
   "cell_type": "raw",
   "id": "85c1d52d-a82e-4d88-bb19-601612047878",
   "metadata": {},
   "source": []
  },
  {
   "cell_type": "raw",
   "id": "372947bd-407e-44ef-9754-4806db5d87e3",
   "metadata": {},
   "source": [
    "Ques.6 What is a Venn diagram?"
   ]
  },
  {
   "cell_type": "raw",
   "id": "492f2277-977a-4694-9dc0-b5dbc2b92311",
   "metadata": {},
   "source": [
    "A Venn diagram is a graphical representation that visually illustrates relationships among sets of elements. It consists of overlapping circles (or other shapes) where each circle represents a set. The overlapping regions represent intersections of the sets, showing which elements are common to those sets."
   ]
  },
  {
   "cell_type": "raw",
   "id": "309c971e-285f-436e-a36b-2dcb78465699",
   "metadata": {},
   "source": []
  },
  {
   "cell_type": "raw",
   "id": "1d36c087-491d-491d-a89d-85ea22a93cf2",
   "metadata": {},
   "source": [
    "Ques.7 For the two given sets A = (2,3,4,5,6,7) & B = (0,2,6,8,10)."
   ]
  },
  {
   "cell_type": "raw",
   "id": "ffaffd40-947d-42ec-aa94-31439bee76a0",
   "metadata": {},
   "source": [
    "Union of A and B = {0,2,3,4,5,6,7,8,10}\n",
    "Intersection of A and B = {2,6}"
   ]
  },
  {
   "cell_type": "raw",
   "id": "4b997c98-67c0-4f13-8ca2-57c1b1f8debc",
   "metadata": {},
   "source": []
  },
  {
   "cell_type": "raw",
   "id": "3890a519-8ae5-4f9c-bddd-5870133522ea",
   "metadata": {},
   "source": [
    "Ques.8  What do you understand about skewness in data?"
   ]
  },
  {
   "cell_type": "raw",
   "id": "4fff8fc5-bb7b-4a56-b66d-66ad366a8317",
   "metadata": {},
   "source": [
    "Skewness in data refers to the asymmetry or lack of symmetry in the distribution of data points around their mean in a dataset. It is a measure of the degree to which the data points are skewed or distorted from a normal distribution."
   ]
  },
  {
   "cell_type": "raw",
   "id": "2dfc3cc2-0b68-4f4a-95ad-082660062cda",
   "metadata": {},
   "source": []
  },
  {
   "cell_type": "raw",
   "id": "d442448c-eff6-46cd-8980-c3848b9d1213",
   "metadata": {},
   "source": [
    "Ques.9  If a data is right skewed then what will be the position of median with respect to mean?"
   ]
  },
  {
   "cell_type": "raw",
   "id": "ee5ff383-3356-4109-8f2a-35048b882480",
   "metadata": {},
   "source": [
    "When a dataset is right-skewed (positively skewed), it means that the tail of the distribution extends towards higher values, pulling the mean in that direction. Here’s how the positions of the median and the mean relate in a right-skewed distribution:"
   ]
  },
  {
   "cell_type": "raw",
   "id": "99bf41d9-d51f-4d9a-a9b7-46963701174c",
   "metadata": {},
   "source": []
  },
  {
   "cell_type": "raw",
   "id": "019a5cbc-5dfb-4405-8d3d-6474ab37dc2d",
   "metadata": {},
   "source": [
    "Ques.10  Explain the difference between covariance and correlation. How are these measures used in statistical analysis?"
   ]
  },
  {
   "cell_type": "raw",
   "id": "adad7549-b0c6-4167-9a2a-8c2b7e36ac61",
   "metadata": {},
   "source": [
    "Covariance and correlation are both measures used in statistical analysis to describe the relationship between two variables. While they both quantify the degree to which two variables change together, they have different interpretations and are used in slightly different contexts.\n",
    "\n",
    "Covariance: Used to understand the direction of the relationship between two variables and the strength of their association. It is often used in finance and economics to analyze the relationships between assets or economic variables.\n",
    "\n",
    "Correlation: Widely used in fields like biology, social sciences, and engineering to quantify the strength and direction of linear relationships between variables. It helps in determining how strongly variables are related and in predicting one variable based on another.\n",
    "\n",
    "In summary, while both covariance and correlation measure the relationship between two variables, correlation is preferred in many cases due to its standardization, which provides a clearer interpretation of the strength and direction of the relationship without being affected by the scales of the variables."
   ]
  },
  {
   "cell_type": "raw",
   "id": "86b13d81-9537-49b1-8a8b-d4db80815bd9",
   "metadata": {},
   "source": []
  },
  {
   "cell_type": "raw",
   "id": "987addfb-faee-4e67-bb9a-f6b6251575d1",
   "metadata": {},
   "source": [
    "Ques.11 What is the formula for calculating the sample mean? Provide an example calculation for a dataset."
   ]
  },
  {
   "cell_type": "raw",
   "id": "5d7be85a-65b8-40ee-afd5-06feac0a8a03",
   "metadata": {},
   "source": [
    "The sample mean, often denoted as 𝑥ˉ , is a measure of central tendency that represents the average of a dataset. It is calculated by summing all the values in the dataset and dividing by the number of observations (sample size)."
   ]
  },
  {
   "cell_type": "raw",
   "id": "f5c05480-599e-415d-ad5d-5e207b4ec555",
   "metadata": {},
   "source": []
  },
  {
   "cell_type": "raw",
   "id": "a3ef0d72-60fa-45bb-b811-99ee886797b7",
   "metadata": {},
   "source": [
    "Ques.12  For a normal distribution data what is the relationship between its measure of central tendency?"
   ]
  },
  {
   "cell_type": "raw",
   "id": "010f9dc7-438c-4691-81ab-0d4b5f9fc135",
   "metadata": {},
   "source": [
    "For a normal distribution, which is symmetric and bell-shaped, the measures of central tendency—mean, median, and mode—are all the same. This unique characteristic of the normal distribution simplifies the interpretation of its central tendency measures:\n",
    "\n",
    "Mean: The arithmetic mean (often denoted asμ) is the average of all data points in the distribution.\n",
    "\n",
    "Median: The median is the middle value in the dataset when arranged in ascending order. For a normal distribution, the mean and median coincide because the distribution is symmetric around the mean.\n",
    "\n",
    "Mode: The mode is the value that appears most frequently in the dataset. In a normal distribution, the mode is also equal to the mean and median due to its symmetric nature.\n",
    "\n",
    "Key Points:\n",
    "\n",
    "Symmetry: In a normal distribution, the data is symmetrically distributed around the mean. This means that the distribution is balanced, and the values on the left and right sides of the mean are equal in terms of frequency and spread.\n",
    "\n",
    "Equal Measures: Due to the symmetry:\n",
    "\n",
    "They all have the same numerical value in a perfectly normal distribution.\n",
    "Practical Implications: This property of the normal distribution simplifies the interpretation of central tendency measures. Analysts and researchers often use the mean as a summary statistic for the central tendency of normally distributed data, knowing that it accurately represents both the center and typical value of the dataset.\n",
    "\n",
    "In summary, for a normal distribution:\n",
    "\n",
    "Mean = Median = Mode"
   ]
  },
  {
   "cell_type": "raw",
   "id": "be6ff1a4-3d1f-4494-9650-fc232697029f",
   "metadata": {},
   "source": []
  },
  {
   "cell_type": "raw",
   "id": "970ff14b-83a6-4ca7-ac95-dbcadc39ea7b",
   "metadata": {},
   "source": [
    "Ques.13 How is covariance different from correlation?"
   ]
  },
  {
   "cell_type": "raw",
   "id": "970b5fa5-8184-4111-9f2d-0718827a6124",
   "metadata": {},
   "source": [
    "Covariance: Used to understand the direction of the relationship between two variables and the strength of their association. It is often used in finance and economics to analyze the relationships between assets or economic variables.\n",
    "\n",
    "Correlation: Widely used in fields like biology, social sciences, and engineering to quantify the strength and direction of linear relationships between variables. It helps in determining how strongly variables are related and in predicting one variable based on another.\n",
    "\n",
    "In summary, while both covariance and correlation measure the relationship between two variables, correlation is preferred in many cases due to its standardization, which provides a clearer interpretation of the strength and direction of the relationship without being affected by the scales of the variables."
   ]
  },
  {
   "cell_type": "raw",
   "id": "3c06c16f-5c33-47e4-a888-b3e020b50ea1",
   "metadata": {},
   "source": []
  },
  {
   "cell_type": "raw",
   "id": "2568cdab-b9a2-4feb-9b59-cbb8af59ba88",
   "metadata": {},
   "source": [
    "Ques.14 How do outliers affect measures of central tendency and dispersion? Provide an example."
   ]
  },
  {
   "cell_type": "raw",
   "id": "50071e2b-c8f5-4e94-b053-9bc860b9501e",
   "metadata": {},
   "source": [
    "Outliers are data points that differ significantly from other observations in a dataset. They can have a substantial impact on measures of central tendency (mean, median, mode) and measures of dispersion (range, variance, standard deviation). \n",
    "\n",
    "Example:\n",
    "\n",
    "Let's illustrate the impact of outliers using the following dataset of test scores:\n",
    "{70,80,85,90,95,100,120}\n",
    "Median without outlier:87.5\n",
    "Median with outlier:90\n",
    "Range without outlier:30\n",
    "Range with outlier:50\n",
    "Standard deviation without outlier≈11.79\n",
    "Standard deviation with outlier:15.52\n",
    "\n",
    "In this example:\n",
    "The outlier (test score of 120) increases both the mean and the range significantly.\n",
    "The median is less affected by the outlier, changing only slightly.\n",
    "The standard deviation increases due to the outlier's influence on the spread of the data.\n",
    "Thus, outliers can distort measures of central tendency and dispersion, particularly the mean and standard deviation, making it important to assess their impact and potentially handle them appropriately in data analysis and interpretation."
   ]
  },
  {
   "cell_type": "code",
   "execution_count": null,
   "id": "32c0c56c-6a3e-40a4-9036-4a2fd1217cab",
   "metadata": {},
   "outputs": [],
   "source": []
  }
 ],
 "metadata": {
  "kernelspec": {
   "display_name": "Python 3 (ipykernel)",
   "language": "python",
   "name": "python3"
  },
  "language_info": {
   "codemirror_mode": {
    "name": "ipython",
    "version": 3
   },
   "file_extension": ".py",
   "mimetype": "text/x-python",
   "name": "python",
   "nbconvert_exporter": "python",
   "pygments_lexer": "ipython3",
   "version": "3.10.8"
  }
 },
 "nbformat": 4,
 "nbformat_minor": 5
}
